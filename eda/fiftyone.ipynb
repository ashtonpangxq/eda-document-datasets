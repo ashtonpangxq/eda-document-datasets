{
 "cells": [
  {
   "cell_type": "code",
   "execution_count": 1,
   "metadata": {},
   "outputs": [
    {
     "ename": "FiftyOneConfigError",
     "evalue": "MongoDB is not yet supported on Apple Silicon Macs. Please define a `database_uri` in your `fiftyone.core.config.FiftyOneConfig` to define a connection to your own MongoDB instance or cluster",
     "output_type": "error",
     "traceback": [
      "\u001b[0;31m---------------------------------------------------------------------------\u001b[0m",
      "\u001b[0;31mServiceExecutableNotFound\u001b[0m                 Traceback (most recent call last)",
      "File \u001b[0;32m~/miniconda3/envs/fiftyone/lib/python3.8/site-packages/fiftyone/core/odm/database.py:154\u001b[0m, in \u001b[0;36mestablish_db_conn\u001b[0;34m(config)\u001b[0m\n\u001b[1;32m    153\u001b[0m \u001b[39mtry\u001b[39;00m:\n\u001b[0;32m--> 154\u001b[0m     _db_service \u001b[39m=\u001b[39m fos\u001b[39m.\u001b[39;49mDatabaseService()\n\u001b[1;32m    155\u001b[0m     port \u001b[39m=\u001b[39m _db_service\u001b[39m.\u001b[39mport\n",
      "File \u001b[0;32m~/miniconda3/envs/fiftyone/lib/python3.8/site-packages/fiftyone/core/service.py:80\u001b[0m, in \u001b[0;36mService.__init__\u001b[0;34m(self)\u001b[0m\n\u001b[1;32m     79\u001b[0m \u001b[39mif\u001b[39;00m \u001b[39mnot\u001b[39;00m \u001b[39mself\u001b[39m\u001b[39m.\u001b[39m_disabled:\n\u001b[0;32m---> 80\u001b[0m     \u001b[39mself\u001b[39;49m\u001b[39m.\u001b[39;49mstart()\n",
      "File \u001b[0;32m~/miniconda3/envs/fiftyone/lib/python3.8/site-packages/fiftyone/core/service.py:209\u001b[0m, in \u001b[0;36mMultiClientService.start\u001b[0;34m(self)\u001b[0m\n\u001b[1;32m    207\u001b[0m         logger\u001b[39m.\u001b[39mwarning(\u001b[39m\"\u001b[39m\u001b[39m%s\u001b[39;00m\u001b[39m did not respond\u001b[39m\u001b[39m\"\u001b[39m, desc)\n\u001b[0;32m--> 209\u001b[0m \u001b[39msuper\u001b[39;49m()\u001b[39m.\u001b[39;49mstart()\n",
      "File \u001b[0;32m~/miniconda3/envs/fiftyone/lib/python3.8/site-packages/fiftyone/core/service.py:118\u001b[0m, in \u001b[0;36mService.start\u001b[0;34m(self)\u001b[0m\n\u001b[1;32m    113\u001b[0m \u001b[39m# use psutil's Popen wrapper because its wait() more reliably waits\u001b[39;00m\n\u001b[1;32m    114\u001b[0m \u001b[39m# for the process to exit on Windows\u001b[39;00m\n\u001b[1;32m    115\u001b[0m \u001b[39mself\u001b[39m\u001b[39m.\u001b[39mchild \u001b[39m=\u001b[39m psutil\u001b[39m.\u001b[39mPopen(\n\u001b[1;32m    116\u001b[0m     [sys\u001b[39m.\u001b[39mexecutable, service_main_path]\n\u001b[1;32m    117\u001b[0m     \u001b[39m+\u001b[39m \u001b[39mself\u001b[39m\u001b[39m.\u001b[39m_service_args\n\u001b[0;32m--> 118\u001b[0m     \u001b[39m+\u001b[39m \u001b[39mself\u001b[39;49m\u001b[39m.\u001b[39;49mcommand,\n\u001b[1;32m    119\u001b[0m     cwd\u001b[39m=\u001b[39m\u001b[39mself\u001b[39m\u001b[39m.\u001b[39mworking_dir,\n\u001b[1;32m    120\u001b[0m     stdin\u001b[39m=\u001b[39msubprocess\u001b[39m.\u001b[39mPIPE,\n\u001b[1;32m    121\u001b[0m     env\u001b[39m=\u001b[39m{\u001b[39m*\u001b[39m\u001b[39m*\u001b[39mos\u001b[39m.\u001b[39menviron, \u001b[39m\"\u001b[39m\u001b[39mFIFTYONE_DISABLE_SERVICES\u001b[39m\u001b[39m\"\u001b[39m: \u001b[39m\"\u001b[39m\u001b[39m1\u001b[39m\u001b[39m\"\u001b[39m, \u001b[39m*\u001b[39m\u001b[39m*\u001b[39m\u001b[39mself\u001b[39m\u001b[39m.\u001b[39menv},\n\u001b[1;32m    122\u001b[0m )\n",
      "File \u001b[0;32m~/miniconda3/envs/fiftyone/lib/python3.8/site-packages/fiftyone/core/service.py:238\u001b[0m, in \u001b[0;36mDatabaseService.command\u001b[0;34m(self)\u001b[0m\n\u001b[1;32m    235\u001b[0m log_path \u001b[39m=\u001b[39m os\u001b[39m.\u001b[39mpath\u001b[39m.\u001b[39mjoin(database_dir, \u001b[39m\"\u001b[39m\u001b[39mlog\u001b[39m\u001b[39m\"\u001b[39m, \u001b[39m\"\u001b[39m\u001b[39mmongo.log\u001b[39m\u001b[39m\"\u001b[39m)\n\u001b[1;32m    237\u001b[0m args \u001b[39m=\u001b[39m [\n\u001b[0;32m--> 238\u001b[0m     DatabaseService\u001b[39m.\u001b[39;49mfind_mongod(),\n\u001b[1;32m    239\u001b[0m     \u001b[39m\"\u001b[39m\u001b[39m--dbpath\u001b[39m\u001b[39m\"\u001b[39m,\n\u001b[1;32m    240\u001b[0m     database_dir,\n\u001b[1;32m    241\u001b[0m     \u001b[39m\"\u001b[39m\u001b[39m--logpath\u001b[39m\u001b[39m\"\u001b[39m,\n\u001b[1;32m    242\u001b[0m     log_path,\n\u001b[1;32m    243\u001b[0m     \u001b[39m\"\u001b[39m\u001b[39m--port\u001b[39m\u001b[39m\"\u001b[39m,\n\u001b[1;32m    244\u001b[0m     \u001b[39m\"\u001b[39m\u001b[39m0\u001b[39m\u001b[39m\"\u001b[39m,\n\u001b[1;32m    245\u001b[0m ]\n\u001b[1;32m    246\u001b[0m \u001b[39mif\u001b[39;00m \u001b[39mnot\u001b[39;00m sys\u001b[39m.\u001b[39mplatform\u001b[39m.\u001b[39mstartswith(\u001b[39m\"\u001b[39m\u001b[39mwin\u001b[39m\u001b[39m\"\u001b[39m):\n",
      "File \u001b[0;32m~/miniconda3/envs/fiftyone/lib/python3.8/site-packages/fiftyone/core/service.py:286\u001b[0m, in \u001b[0;36mDatabaseService.find_mongod\u001b[0;34m()\u001b[0m\n\u001b[1;32m    285\u001b[0m \u001b[39mif\u001b[39;00m \u001b[39mnot\u001b[39;00m os\u001b[39m.\u001b[39mpath\u001b[39m.\u001b[39misfile(mongod):\n\u001b[0;32m--> 286\u001b[0m     \u001b[39mraise\u001b[39;00m ServiceExecutableNotFound(\u001b[39m\"\u001b[39m\u001b[39mCould not find `mongod`\u001b[39m\u001b[39m\"\u001b[39m)\n\u001b[1;32m    288\u001b[0m \u001b[39mif\u001b[39;00m \u001b[39mnot\u001b[39;00m os\u001b[39m.\u001b[39maccess(mongod, os\u001b[39m.\u001b[39mX_OK):\n",
      "\u001b[0;31mServiceExecutableNotFound\u001b[0m: Could not find `mongod`",
      "\nDuring handling of the above exception, another exception occurred:\n",
      "\u001b[0;31mFiftyOneConfigError\u001b[0m                       Traceback (most recent call last)",
      "\u001b[1;32m/Users/ashtonpang/python-projects/eda-document-datasets/eda/fiftyone.ipynb Cell 1\u001b[0m in \u001b[0;36m<cell line: 1>\u001b[0;34m()\u001b[0m\n\u001b[0;32m----> <a href='vscode-notebook-cell:/Users/ashtonpang/python-projects/eda-document-datasets/eda/fiftyone.ipynb#ch0000000?line=0'>1</a>\u001b[0m \u001b[39mimport\u001b[39;00m \u001b[39mfiftyone\u001b[39;00m \u001b[39mas\u001b[39;00m \u001b[39mfo\u001b[39;00m\n\u001b[1;32m      <a href='vscode-notebook-cell:/Users/ashtonpang/python-projects/eda-document-datasets/eda/fiftyone.ipynb#ch0000000?line=1'>2</a>\u001b[0m \u001b[39mimport\u001b[39;00m \u001b[39mfiftyone\u001b[39;00m\u001b[39m.\u001b[39;00m\u001b[39mzoo\u001b[39;00m \u001b[39mas\u001b[39;00m \u001b[39mfoz\u001b[39;00m\n",
      "File \u001b[0;32m~/miniconda3/envs/fiftyone/lib/python3.8/site-packages/fiftyone/__init__.py:25\u001b[0m, in \u001b[0;36m<module>\u001b[0;34m\u001b[0m\n\u001b[1;32m     21\u001b[0m \u001b[39mimport\u001b[39;00m \u001b[39mfiftyone\u001b[39;00m\u001b[39m.\u001b[39;00m\u001b[39mconstants\u001b[39;00m \u001b[39mas\u001b[39;00m \u001b[39m_foc\u001b[39;00m\n\u001b[1;32m     23\u001b[0m __version__ \u001b[39m=\u001b[39m _foc\u001b[39m.\u001b[39mVERSION\n\u001b[0;32m---> 25\u001b[0m \u001b[39mfrom\u001b[39;00m \u001b[39mfiftyone\u001b[39;00m\u001b[39m.\u001b[39;00m\u001b[39m__public__\u001b[39;00m \u001b[39mimport\u001b[39;00m \u001b[39m*\u001b[39m\n\u001b[1;32m     27\u001b[0m \u001b[39mimport\u001b[39;00m \u001b[39mfiftyone\u001b[39;00m\u001b[39m.\u001b[39;00m\u001b[39mcore\u001b[39;00m\u001b[39m.\u001b[39;00m\u001b[39muid\u001b[39;00m \u001b[39mas\u001b[39;00m \u001b[39m_fou\u001b[39;00m\n\u001b[1;32m     28\u001b[0m \u001b[39mimport\u001b[39;00m \u001b[39mfiftyone\u001b[39;00m\u001b[39m.\u001b[39;00m\u001b[39mmigrations\u001b[39;00m \u001b[39mas\u001b[39;00m \u001b[39m_fom\u001b[39;00m\n",
      "File \u001b[0;32m~/miniconda3/envs/fiftyone/lib/python3.8/site-packages/fiftyone/__public__.py:15\u001b[0m, in \u001b[0;36m<module>\u001b[0;34m\u001b[0m\n\u001b[1;32m     12\u001b[0m annotation_config \u001b[39m=\u001b[39m _foc\u001b[39m.\u001b[39mload_annotation_config()\n\u001b[1;32m     13\u001b[0m app_config \u001b[39m=\u001b[39m _foc\u001b[39m.\u001b[39mload_app_config()\n\u001b[0;32m---> 15\u001b[0m _foo\u001b[39m.\u001b[39;49mestablish_db_conn(config)\n\u001b[1;32m     17\u001b[0m \u001b[39mfrom\u001b[39;00m \u001b[39m.\u001b[39;00m\u001b[39mcore\u001b[39;00m\u001b[39m.\u001b[39;00m\u001b[39maggregations\u001b[39;00m \u001b[39mimport\u001b[39;00m (\n\u001b[1;32m     18\u001b[0m     Bounds,\n\u001b[1;32m     19\u001b[0m     Count,\n\u001b[0;32m   (...)\u001b[0m\n\u001b[1;32m     26\u001b[0m     Values,\n\u001b[1;32m     27\u001b[0m )\n\u001b[1;32m     28\u001b[0m \u001b[39mfrom\u001b[39;00m \u001b[39m.\u001b[39;00m\u001b[39mcore\u001b[39;00m\u001b[39m.\u001b[39;00m\u001b[39mconfig\u001b[39;00m \u001b[39mimport\u001b[39;00m AppConfig\n",
      "File \u001b[0;32m~/miniconda3/envs/fiftyone/lib/python3.8/site-packages/fiftyone/core/odm/database.py:169\u001b[0m, in \u001b[0;36mestablish_db_conn\u001b[0;34m(config)\u001b[0m\n\u001b[1;32m    161\u001b[0m             \u001b[39mraise\u001b[39;00m FiftyOneConfigError(\n\u001b[1;32m    162\u001b[0m                 \u001b[39m\"\u001b[39m\u001b[39mMongoDB is not supported on 32-bit systems. Please \u001b[39m\u001b[39m\"\u001b[39m\n\u001b[1;32m    163\u001b[0m                 \u001b[39m\"\u001b[39m\u001b[39mdefine a `database_uri` in your \u001b[39m\u001b[39m\"\u001b[39m\n\u001b[1;32m    164\u001b[0m                 \u001b[39m\"\u001b[39m\u001b[39m`fiftyone.core.config.FiftyOneConfig` to define a \u001b[39m\u001b[39m\"\u001b[39m\n\u001b[1;32m    165\u001b[0m                 \u001b[39m\"\u001b[39m\u001b[39mconnection to your own MongoDB instance or cluster \u001b[39m\u001b[39m\"\u001b[39m\n\u001b[1;32m    166\u001b[0m             )\n\u001b[1;32m    168\u001b[0m         \u001b[39mif\u001b[39;00m fou\u001b[39m.\u001b[39mis_arm_mac():\n\u001b[0;32m--> 169\u001b[0m             \u001b[39mraise\u001b[39;00m FiftyOneConfigError(\n\u001b[1;32m    170\u001b[0m                 \u001b[39m\"\u001b[39m\u001b[39mMongoDB is not yet supported on Apple Silicon Macs. \u001b[39m\u001b[39m\"\u001b[39m\n\u001b[1;32m    171\u001b[0m                 \u001b[39m\"\u001b[39m\u001b[39mPlease define a `database_uri` in your \u001b[39m\u001b[39m\"\u001b[39m\n\u001b[1;32m    172\u001b[0m                 \u001b[39m\"\u001b[39m\u001b[39m`fiftyone.core.config.FiftyOneConfig` to define a \u001b[39m\u001b[39m\"\u001b[39m\n\u001b[1;32m    173\u001b[0m                 \u001b[39m\"\u001b[39m\u001b[39mconnection to your own MongoDB instance or cluster\u001b[39m\u001b[39m\"\u001b[39m\n\u001b[1;32m    174\u001b[0m             )\n\u001b[1;32m    176\u001b[0m         \u001b[39mraise\u001b[39;00m error\n\u001b[1;32m    178\u001b[0m _client \u001b[39m=\u001b[39m pymongo\u001b[39m.\u001b[39mMongoClient(\n\u001b[1;32m    179\u001b[0m     \u001b[39m*\u001b[39m\u001b[39m*\u001b[39m_connection_kwargs, appname\u001b[39m=\u001b[39mfoc\u001b[39m.\u001b[39mDATABASE_APPNAME\n\u001b[1;32m    180\u001b[0m )\n",
      "\u001b[0;31mFiftyOneConfigError\u001b[0m: MongoDB is not yet supported on Apple Silicon Macs. Please define a `database_uri` in your `fiftyone.core.config.FiftyOneConfig` to define a connection to your own MongoDB instance or cluster"
     ]
    }
   ],
   "source": [
    "import fiftyone as fo\n",
    "import fiftyone.zoo as foz"
   ]
  },
  {
   "cell_type": "code",
   "execution_count": null,
   "metadata": {},
   "outputs": [],
   "source": []
  }
 ],
 "metadata": {
  "kernelspec": {
   "display_name": "Python 3.8.13 ('fiftyone')",
   "language": "python",
   "name": "python3"
  },
  "language_info": {
   "codemirror_mode": {
    "name": "ipython",
    "version": 3
   },
   "file_extension": ".py",
   "mimetype": "text/x-python",
   "name": "python",
   "nbconvert_exporter": "python",
   "pygments_lexer": "ipython3",
   "version": "3.8.13"
  },
  "orig_nbformat": 4,
  "vscode": {
   "interpreter": {
    "hash": "fb861e887440ca50aef7a363eeb79669e9a91e917223bbae8775df6806b817bd"
   }
  }
 },
 "nbformat": 4,
 "nbformat_minor": 2
}
